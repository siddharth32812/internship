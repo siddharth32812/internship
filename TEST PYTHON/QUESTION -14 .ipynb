{
 "cells": [
  {
   "cell_type": "code",
   "execution_count": 12,
   "id": "33d9c08c",
   "metadata": {},
   "outputs": [
    {
     "name": "stdout",
     "output_type": "stream",
     "text": [
      " Enter the lenghts of two shorter sides :\n",
      "Side a is : 7\n",
      "Side b is : 6\n"
     ]
    }
   ],
   "source": [
    "from math import sqrt\n",
    "print(' Enter the lenghts of two shorter sides :')\n",
    "a= float(input('Side a is : '))\n",
    "b= float(input('Side b is : '))"
   ]
  },
  {
   "cell_type": "code",
   "execution_count": 18,
   "id": "711e011b",
   "metadata": {},
   "outputs": [
    {
     "ename": "IndentationError",
     "evalue": "unexpected indent (1870445558.py, line 2)",
     "output_type": "error",
     "traceback": [
      "\u001b[1;36m  Input \u001b[1;32mIn [18]\u001b[1;36m\u001b[0m\n\u001b[1;33m    print('The hypotenuse side is', h)\u001b[0m\n\u001b[1;37m    ^\u001b[0m\n\u001b[1;31mIndentationError\u001b[0m\u001b[1;31m:\u001b[0m unexpected indent\n"
     ]
    }
   ],
   "source": [
    "h = sqrt(a**2 + b**2)\n",
    " print('The hypotenuse side is', h)"
   ]
  },
  {
   "cell_type": "code",
   "execution_count": null,
   "id": "0bf6c451",
   "metadata": {},
   "outputs": [],
   "source": []
  }
 ],
 "metadata": {
  "kernelspec": {
   "display_name": "Python 3 (ipykernel)",
   "language": "python",
   "name": "python3"
  },
  "language_info": {
   "codemirror_mode": {
    "name": "ipython",
    "version": 3
   },
   "file_extension": ".py",
   "mimetype": "text/x-python",
   "name": "python",
   "nbconvert_exporter": "python",
   "pygments_lexer": "ipython3",
   "version": "3.9.10"
  }
 },
 "nbformat": 4,
 "nbformat_minor": 5
}
