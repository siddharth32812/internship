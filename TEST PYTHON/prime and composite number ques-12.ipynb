{
 "cells": [
  {
   "cell_type": "markdown",
   "id": "22624100",
   "metadata": {},
   "source": [
    "PYTHON PROGRAM TO FIND PRIME OR COMPOSITE NUMBER"
   ]
  },
  {
   "cell_type": "code",
   "execution_count": null,
   "id": "fa879e45",
   "metadata": {},
   "outputs": [],
   "source": []
  },
  {
   "cell_type": "code",
   "execution_count": 1,
   "id": "1a4bc49a",
   "metadata": {},
   "outputs": [],
   "source": [
    "num = 400"
   ]
  },
  {
   "cell_type": "code",
   "execution_count": 9,
   "id": "f648a36f",
   "metadata": {},
   "outputs": [
    {
     "name": "stdout",
     "output_type": "stream",
     "text": [
      "407 is not a prime number\n",
      "11 times 37 is 407\n"
     ]
    }
   ],
   "source": [
    "if num > 1:\n",
    "    for i in range(2,num):\n",
    "        if (num % i) ==0:\n",
    "            print(num,\"is not a prime number\")\n",
    "            print(i,\"times\",num//i,\"is\",num)\n",
    "            break\n",
    "            \n",
    "            \n",
    "            "
   ]
  },
  {
   "cell_type": "code",
   "execution_count": null,
   "id": "77ad7b46",
   "metadata": {},
   "outputs": [],
   "source": []
  }
 ],
 "metadata": {
  "kernelspec": {
   "display_name": "Python 3 (ipykernel)",
   "language": "python",
   "name": "python3"
  },
  "language_info": {
   "codemirror_mode": {
    "name": "ipython",
    "version": 3
   },
   "file_extension": ".py",
   "mimetype": "text/x-python",
   "name": "python",
   "nbconvert_exporter": "python",
   "pygments_lexer": "ipython3",
   "version": "3.9.10"
  }
 },
 "nbformat": 4,
 "nbformat_minor": 5
}
