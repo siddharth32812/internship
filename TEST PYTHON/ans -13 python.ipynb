{
 "cells": [
  {
   "cell_type": "markdown",
   "id": "c99404cd",
   "metadata": {},
   "source": [
    "PYTHON PROGRAM TO CHECK WHETHER A STRING IS PALINDROME OR NOT"
   ]
  },
  {
   "cell_type": "code",
   "execution_count": 1,
   "id": "0be5f23b",
   "metadata": {},
   "outputs": [],
   "source": [
    "my_str = \"gopuupog\""
   ]
  },
  {
   "cell_type": "code",
   "execution_count": 2,
   "id": "cbca0c22",
   "metadata": {},
   "outputs": [],
   "source": [
    "my_str = my_str.casefold()"
   ]
  },
  {
   "cell_type": "code",
   "execution_count": 4,
   "id": "6f59b321",
   "metadata": {},
   "outputs": [],
   "source": [
    "rev_str = reversed(my_str)"
   ]
  },
  {
   "cell_type": "code",
   "execution_count": 9,
   "id": "40b529f6",
   "metadata": {},
   "outputs": [
    {
     "name": "stdout",
     "output_type": "stream",
     "text": [
      "The string is a palindrome\n"
     ]
    }
   ],
   "source": [
    "if list(my_str) == list(rev_str):\n",
    "    print(\"The string is a palindrome\")\n",
    "else:\n",
    "    print(\"the string is not a palindrome\")"
   ]
  },
  {
   "cell_type": "code",
   "execution_count": null,
   "id": "1c2024b9",
   "metadata": {},
   "outputs": [],
   "source": []
  },
  {
   "cell_type": "code",
   "execution_count": null,
   "id": "d47317e9",
   "metadata": {},
   "outputs": [],
   "source": []
  }
 ],
 "metadata": {
  "kernelspec": {
   "display_name": "Python 3 (ipykernel)",
   "language": "python",
   "name": "python3"
  },
  "language_info": {
   "codemirror_mode": {
    "name": "ipython",
    "version": 3
   },
   "file_extension": ".py",
   "mimetype": "text/x-python",
   "name": "python",
   "nbconvert_exporter": "python",
   "pygments_lexer": "ipython3",
   "version": "3.9.10"
  }
 },
 "nbformat": 4,
 "nbformat_minor": 5
}
