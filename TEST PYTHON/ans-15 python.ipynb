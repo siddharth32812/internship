{
 "cells": [
  {
   "cell_type": "markdown",
   "id": "0aa54851",
   "metadata": {},
   "source": [
    "CODE TO PRINT THE FREQUENCY OF EACH OF THE CHARACTERSTICS PRSENT IN A GIVEN STRING"
   ]
  },
  {
   "cell_type": "code",
   "execution_count": 1,
   "id": "42c3e08d",
   "metadata": {},
   "outputs": [],
   "source": [
    "test_str = \"GeeksforGeeks\""
   ]
  },
  {
   "cell_type": "code",
   "execution_count": 2,
   "id": "a7d2d849",
   "metadata": {},
   "outputs": [],
   "source": [
    "res = {i : test_str.count(i) for i in set(test_str)}"
   ]
  },
  {
   "cell_type": "code",
   "execution_count": 5,
   "id": "3397a5bf",
   "metadata": {},
   "outputs": [
    {
     "name": "stdout",
     "output_type": "stream",
     "text": [
      "The count of all characters in GeeksforGeeks is :\n",
      "{'r': 1, 's': 2, 'G': 2, 'f': 1, 'o': 1, 'e': 4, 'k': 2}\n"
     ]
    }
   ],
   "source": [
    "print (\"The count of all characters in GeeksforGeeks is :\\n\" + str(res))"
   ]
  },
  {
   "cell_type": "code",
   "execution_count": null,
   "id": "11fb2b8e",
   "metadata": {},
   "outputs": [],
   "source": []
  }
 ],
 "metadata": {
  "kernelspec": {
   "display_name": "Python 3 (ipykernel)",
   "language": "python",
   "name": "python3"
  },
  "language_info": {
   "codemirror_mode": {
    "name": "ipython",
    "version": 3
   },
   "file_extension": ".py",
   "mimetype": "text/x-python",
   "name": "python",
   "nbconvert_exporter": "python",
   "pygments_lexer": "ipython3",
   "version": "3.9.10"
  }
 },
 "nbformat": 4,
 "nbformat_minor": 5
}
