{
 "cells": [
  {
   "cell_type": "code",
   "execution_count": 1,
   "id": "54e7b1a0",
   "metadata": {},
   "outputs": [],
   "source": [
    "def factorial(n):\n",
    "    if n < 0:\n",
    "        return 0\n",
    "    elif n == 0 or n == 1:\n",
    "        return 1\n",
    "    else:\n",
    "        fact = 1\n",
    "        while(n > 1):\n",
    "            fact *= n\n",
    "            n -= 1\n",
    "            return fact"
   ]
  },
  {
   "cell_type": "code",
   "execution_count": 4,
   "id": "19bdcfd8",
   "metadata": {},
   "outputs": [],
   "source": [
    "num = 5;"
   ]
  },
  {
   "cell_type": "code",
   "execution_count": 6,
   "id": "6bb6df3d",
   "metadata": {},
   "outputs": [
    {
     "name": "stdout",
     "output_type": "stream",
     "text": [
      "Fatorial of 5 is 5\n"
     ]
    }
   ],
   "source": [
    "print(\"Fatorial of\",num,\"is\" ,factorial(num))"
   ]
  },
  {
   "cell_type": "markdown",
   "id": "65abe441",
   "metadata": {},
   "source": [
    "Other method"
   ]
  },
  {
   "cell_type": "code",
   "execution_count": 7,
   "id": "16f3082a",
   "metadata": {},
   "outputs": [],
   "source": [
    "def factorial(n) :\n",
    "    return 1 if (n==1 or n==0) else n * factorial(n - 1)"
   ]
  },
  {
   "cell_type": "code",
   "execution_count": 8,
   "id": "d7cf2b97",
   "metadata": {},
   "outputs": [
    {
     "name": "stdout",
     "output_type": "stream",
     "text": [
      "Factorial of 5 is 120\n"
     ]
    }
   ],
   "source": [
    "num = 5\n",
    "print (\"Factorial of\" ,num,\"is\" ,factorial(num))"
   ]
  },
  {
   "cell_type": "code",
   "execution_count": null,
   "id": "2691fcd7",
   "metadata": {},
   "outputs": [],
   "source": []
  }
 ],
 "metadata": {
  "kernelspec": {
   "display_name": "Python 3 (ipykernel)",
   "language": "python",
   "name": "python3"
  },
  "language_info": {
   "codemirror_mode": {
    "name": "ipython",
    "version": 3
   },
   "file_extension": ".py",
   "mimetype": "text/x-python",
   "name": "python",
   "nbconvert_exporter": "python",
   "pygments_lexer": "ipython3",
   "version": "3.9.10"
  }
 },
 "nbformat": 4,
 "nbformat_minor": 5
}
